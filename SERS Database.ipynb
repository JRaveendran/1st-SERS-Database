{
 "cells": [
  {
   "cell_type": "markdown",
   "id": "5afc28b5-dbdc-40f3-8f44-789dc3630850",
   "metadata": {},
   "source": [
    "## Purpose\n",
    "\n",
    "Want to import several Raman/SERS measurements of different analytes and different concentrations, clean up the data and then place the spectra in a dataframe which has the intensity values along with the analyte + concentration.\n",
    "\n",
    "Once the data is imported, it needs to be cleaned up. The data needs to be baseline corrected, filtered, and interpolated to have values at wholenumbers.\n",
    "\n",
    "Note different settings/ different Raman spectrometers as well as different SERS substrates were used for the measurements.\n"
   ]
  },
  {
   "cell_type": "markdown",
   "id": "b5ad93bd-f745-4701-86f6-a8a6cbbb9e5d",
   "metadata": {},
   "source": [
    "## Libraries"
   ]
  },
  {
   "cell_type": "code",
   "execution_count": 1,
   "id": "f1bc2c9f-3117-470a-8736-5cd038a4a496",
   "metadata": {},
   "outputs": [],
   "source": [
    "import matplotlib.pyplot as plt\n",
    "import pandas as pd\n",
    "import numpy as np\n",
    "import os\n",
    "\n",
    "import scipy \n",
    "from scipy import interpolate #Need to get values at whole numbers\n",
    "from scipy.signal import savgol_filter #need to filter spectrum to help clean it up\n",
    "from BaselineRemoval import BaselineRemoval # https://pypi.org/project/BaselineRemoval/\n",
    "\n"
   ]
  },
  {
   "cell_type": "markdown",
   "id": "a51d45e6-2fc4-4055-ad5a-520ad3e5db3f",
   "metadata": {},
   "source": [
    "## The Data"
   ]
  },
  {
   "cell_type": "code",
   "execution_count": 2,
   "id": "a657e44c-43a9-48ad-aeca-8cca50137c70",
   "metadata": {},
   "outputs": [
    {
     "name": "stdout",
     "output_type": "stream",
     "text": [
      "['Thiram 10ppm', 'Thiabendazole 1ppm', 'BP4T 10-3M', '.DS_Store', 'Water', 'Rhodamine 6G 10-8M', 'Rhodamine 6G 10-6M', 'BP4T 10-4M', 'Thiram 1ppm', 'Rhodamine 6G 10-5M', 'Thiram 100ppm', 'Thiram 1000ppm', 'Malachite Green 1ppm', 'Chlorpyrifos 100ppm', 'Chlorpyrifos 1ppm', 'Oxycodone 100ppm', 'BP4T 10-6M', 'Thiram 0.1ppm', 'Rhodamine 6G 10-7M', 'BP4T 10-5M', 'Chlorpyrifos 1000ppm', 'Cocaine 100ppm']\n",
      "['Thiram 10ppm', 'Thiabendazole 1ppm', 'BP4T 10-3M', 'Water', 'Rhodamine 6G 10-8M', 'Rhodamine 6G 10-6M', 'BP4T 10-4M', 'Thiram 1ppm', 'Rhodamine 6G 10-5M', 'Thiram 100ppm', 'Thiram 1000ppm', 'Malachite Green 1ppm', 'Chlorpyrifos 100ppm', 'Chlorpyrifos 1ppm', 'Oxycodone 100ppm', 'BP4T 10-6M', 'Thiram 0.1ppm', 'Rhodamine 6G 10-7M', 'BP4T 10-5M', 'Chlorpyrifos 1000ppm', 'Cocaine 100ppm']\n"
     ]
    },
    {
     "data": {
      "text/plain": [
       "'/Users/JRav/Documents/Learning/Learning software/Python/Personal/Spectra Files/Thiabendazole 1ppm'"
      ]
     },
     "execution_count": 2,
     "metadata": {},
     "output_type": "execute_result"
    }
   ],
   "source": [
    "## Get the path to the spectra files as well as the name of the individual folders in the main \n",
    "#folder/directory\n",
    "Path = '/Users/JRav/Documents/Learning/Learning software/Python/Personal/Spectra Files'\n",
    "filelist = os.listdir(Path)\n",
    "print(filelist)\n",
    "#type(filelist)\n",
    "#remove non spectra folders from the list\n",
    "filelist.remove('.DS_Store')\n",
    "print(filelist)\n",
    "\n",
    "#Make empty list to store all paths to subdirectories in.\n",
    "Path2 = []\n",
    "for x in filelist:\n",
    "    Path2.append(Path +'/'+ x)\n",
    "#print(Path2)\n",
    "#Path2[1]"
   ]
  },
  {
   "cell_type": "markdown",
   "id": "e1e57605-b8f7-4fce-9cf3-74d196536346",
   "metadata": {},
   "source": [
    "## Preprocessing Parameters"
   ]
  },
  {
   "cell_type": "code",
   "execution_count": 40,
   "id": "0b10adc2-c431-4d9e-8ac3-9290a011bf36",
   "metadata": {},
   "outputs": [
    {
     "data": {
      "text/plain": [
       "numpy.ndarray"
      ]
     },
     "execution_count": 40,
     "metadata": {},
     "output_type": "execute_result"
    }
   ],
   "source": [
    "# Using a Savitzky-Golay filter on the raw spectra to clean up some of noise in the signal\n",
    "\n",
    "SGpoly = 3\n",
    "SGframe = 15\n",
    "\n",
    "# Baseline correction parameters\n",
    "\n",
    "\n",
    "# Looking at the 'molecular fingerprint' for Raman spectra, aka 600-1800 cm^-1 range\n",
    "\n",
    "WaveNumLow = 600\n",
    "WaveNumHigh = 1800\n",
    "WaveNumbers = np.arange(WaveNumLow, WaveNumHigh+1)\n",
    "\n",
    "type(WaveNumbers)"
   ]
  },
  {
   "cell_type": "markdown",
   "id": "bd5ffa0b-e193-4a17-ae3b-93ce65938e31",
   "metadata": {},
   "source": [
    "# Preprocessing functions"
   ]
  },
  {
   "cell_type": "markdown",
   "id": "94cde0de-5966-427c-8ab5-340cb3237e74",
   "metadata": {},
   "source": [
    "## Sav-Golay filter function"
   ]
  },
  {
   "cell_type": "code",
   "execution_count": 4,
   "id": "2c0b49a8-3864-4a97-80a1-1e37875e36e0",
   "metadata": {},
   "outputs": [],
   "source": [
    "def SG(y0, SGframe, SGpoly):\n",
    "    y1 = savgol_filter(y0, window_length = SGframe, polyorder = SGpoly)\n",
    "    return y1"
   ]
  },
  {
   "cell_type": "markdown",
   "id": "2e026c14-29fc-4424-84f5-09cb93665cec",
   "metadata": {},
   "source": [
    "## Baseline correction function"
   ]
  },
  {
   "cell_type": "code",
   "execution_count": 5,
   "id": "209ee937-3ca5-4b33-9a15-2cdeb74587de",
   "metadata": {},
   "outputs": [],
   "source": [
    "def Baseline(spectrum):\n",
    "    baseObj=BaselineRemoval(spectrum)\n",
    "    Zhangfit_output=baseObj.ZhangFit()\n",
    "    return Zhangfit_output"
   ]
  },
  {
   "cell_type": "markdown",
   "id": "8dedade4-cb59-4830-a253-af21b1a5d4c6",
   "metadata": {},
   "source": [
    "## Interpolation function"
   ]
  },
  {
   "cell_type": "code",
   "execution_count": 6,
   "id": "8734de25-ead7-4a52-9d7b-d01e8fbdc48f",
   "metadata": {},
   "outputs": [],
   "source": [
    "def Interpolation(x0,WaveNumbers,y):\n",
    "    tck = interpolate.splrep(x0, y, s=0)\n",
    "    ynew = interpolate.splev(WaveNumbers, tck, der=0)\n",
    "    return ynew"
   ]
  },
  {
   "cell_type": "markdown",
   "id": "b36a4b44-2667-46a8-9970-533cf14f27ee",
   "metadata": {},
   "source": [
    "# Importing data and preprocessing"
   ]
  },
  {
   "cell_type": "code",
   "execution_count": 42,
   "id": "35ffdf1f-1c90-4e17-94ec-ab913d8be802",
   "metadata": {},
   "outputs": [
    {
     "name": "stdout",
     "output_type": "stream",
     "text": [
      "ok\n"
     ]
    }
   ],
   "source": [
    "AnalyteList = []\n",
    "ConcentrationList = []\n",
    "RawSpectra = pd.DataFrame()\n",
    "Spectra = pd.DataFrame()\n",
    "#RawSpectra = pd.DataFrame(columns = [WaveNumbers])  \n",
    "#Spectra = pd.DataFrame(columns = [WaveNumbers]) \n",
    "k = 0\n",
    "\n",
    "for i in Path2:\n",
    "    filelist2 = os.listdir(i)\n",
    "    for j in filelist2:\n",
    "        \n",
    "        if j.endswith('.txt') and j != '.txt':\n",
    "            \n",
    "            \n",
    "            name = i + '/' +j\n",
    "            file = pd.read_csv(name, sep = '\\t', header = None, names = ['Wavenumber', 'Intensity'])\n",
    "            x0 = file['Wavenumber']\n",
    "            y0 = file['Intensity']\n",
    "            \n",
    "            #filtering the spectra\n",
    "            y1 = SG(y0, SGframe, SGpoly) \n",
    "            \n",
    "            #baseline correcting the spectra\n",
    "            y2 = Baseline(y1) \n",
    "            \n",
    "            #getting intensity values at each whole wavenumber\n",
    "            y3 = np.around(Interpolation(x0,WaveNumbers,y2),1)\n",
    "            yRaw = np.around(Interpolation(x0,WaveNumbers,y0),1)\n",
    "\n",
    "            #filling 2 dataframes, 1 Raw (interpolated though) and other fully cleaned up spectra\n",
    "            RawSpectra[k] = yRaw.tolist()\n",
    "            Spectra[k] = y3.tolist()\n",
    "            \n",
    "            #making a list for both the analyte and concentration for future dataframe\n",
    "            AnalyteList.append(j.split('_')[0].split()[0])\n",
    "            ConcentrationList.append(j.split('_')[0].split()[1])\n",
    "            \n",
    "            k = k +1\n",
    "\n",
    "RawSpectra = RawSpectra.transpose()\n",
    "Spectra = Spectra.transpose()\n",
    "\n",
    "RawSpectra.columns = WaveNumbers\n",
    "Spectra.columns = WaveNumbers"
   ]
  },
  {
   "cell_type": "markdown",
   "id": "bfa7c03c-649d-4919-9b49-409fbe5a6dee",
   "metadata": {},
   "source": [
    "## Adding analyte list and concentration list to spectra dataframes   "
   ]
  },
  {
   "cell_type": "code",
   "execution_count": 44,
   "id": "e9c3534f-8d1e-4b3d-86f9-8b3e1cc170e9",
   "metadata": {},
   "outputs": [],
   "source": [
    "se1 = pd.Series(AnalyteList)\n",
    "se2 = pd.Series(ConcentrationList)\n",
    "\n",
    "RawSpectra.insert(0,'Analyte',se1)\n",
    "RawSpectra.insert(1,'Concentration',se2)\n",
    "\n",
    "Spectra.insert(0,'Analyte',se1)\n",
    "Spectra.insert(1,'Concentration',se2)"
   ]
  },
  {
   "cell_type": "markdown",
   "id": "f62a0358-d681-4735-8d8f-734a44b5abce",
   "metadata": {
    "tags": []
   },
   "source": [
    "## Export the raw and cleaned up Spectra dataframes"
   ]
  },
  {
   "cell_type": "code",
   "execution_count": null,
   "id": "36ee0edf-82f2-4ec8-8bc5-434d62e0f17f",
   "metadata": {
    "jp-MarkdownHeadingCollapsed": true,
    "tags": []
   },
   "outputs": [],
   "source": [
    "Spectra.to_csv('Spectra.csv')\n",
    "RawSpectra.to_csv('RawSpectra.csv')"
   ]
  },
  {
   "cell_type": "code",
   "execution_count": null,
   "id": "3a2a8960-9da7-4fce-8208-a1bba3fdc06d",
   "metadata": {},
   "outputs": [],
   "source": []
  }
 ],
 "metadata": {
  "kernelspec": {
   "display_name": "Python 3 (ipykernel)",
   "language": "python",
   "name": "python3"
  },
  "language_info": {
   "codemirror_mode": {
    "name": "ipython",
    "version": 3
   },
   "file_extension": ".py",
   "mimetype": "text/x-python",
   "name": "python",
   "nbconvert_exporter": "python",
   "pygments_lexer": "ipython3",
   "version": "3.8.8"
  }
 },
 "nbformat": 4,
 "nbformat_minor": 5
}
